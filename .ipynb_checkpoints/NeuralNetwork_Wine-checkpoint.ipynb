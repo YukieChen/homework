{
 "cells": [
  {
   "cell_type": "markdown",
   "metadata": {
    "colab_type": "text",
    "id": "uh8nAS2dbVuF"
   },
   "source": [
    "# HW02 -- NeuralNetwork 葡萄酒分類"
   ]
  },
  {
   "cell_type": "code",
   "execution_count": 1,
   "metadata": {
    "colab": {},
    "colab_type": "code",
    "id": "-8VbfwutbVuH"
   },
   "outputs": [],
   "source": [
    "import csv\n",
    "import math\n",
    "import random\n",
    "import operator\n",
    "import sys\n",
    "import matplotlib.pyplot as plt\n",
    "import numpy as np\n",
    "import time\n",
    "\n",
    "random.seed()"
   ]
  },
  {
   "cell_type": "markdown",
   "metadata": {
    "colab_type": "text",
    "id": "uMytAIN5bVuK"
   },
   "source": [
    "## 開啟資料檔 ##\n",
    "\n",
    "利用 Python With open as 語法開啟 wine.data，避免忘記關檔發生錯誤。開啟資料的同時也對資料進行以下幾項處理：\n",
    "1. 進行標準化\n",
    "1. 欄位轉置\n",
    "1. 打亂訓練資料\n",
    "\n",
    "### **進行標準化** ###\n",
    "\n",
    "原始資料並未進行標準化，最後的計算結果可能會受到某些數值較大的欄位嚴重影響，因此利用下列公式進行標準化：\n",
    "\n",
    "*(X - Min) / (Max - Min)*\n",
    "\n",
    "### **欄位轉置** ###\n",
    "原始的 wine.data 將分類放在第一欄，這不太符合一般習慣，因此將檔案重整，把分類放到最後一欄。\n",
    "\n",
    "逐一轉置的同時，設下一個標準值，並取一個亂數，若取得的亂數 > 標準值，則將該筆資料存至 test data；否則為 training data。\n",
    "\n",
    "### **打亂訓練資料** ###\n",
    "類神經網路進行學習時，若將資料分類的太好，則可能太早落入區域化最佳解而影響其正確率。所以將資料打亂，避免過早落入小區域最佳解。\n",
    "\n",
    "Python 提供 random.shuffle 函數可以打亂資料，這次使用 **D. E. Knuth** 的方法打亂訓練資料。\n"
   ]
  },
  {
   "cell_type": "code",
   "execution_count": 2,
   "metadata": {
    "colab": {},
    "colab_type": "code",
    "id": "kqRzZZldbVuP"
   },
   "outputs": [],
   "source": [
    "def openData(filename, split, trainingData = [], testData = []):\n",
    "    with open(filename, 'r') as csvData:\n",
    "        lines = csv.reader(csvData)\n",
    "        dataSet = list(lines)\n",
    "        dataItems = len(dataSet[0]) -1\n",
    "        \n",
    "        # 將資料進行標準化\n",
    "        for columns in range(1, len(dataSet[0])):\n",
    "            minX = float(dataSet[0][columns])\n",
    "            maxX = float(dataSet[0][columns])\n",
    "            \n",
    "            for x in range(len(dataSet)):\n",
    "                dataSet[x][columns] = float(dataSet[x][columns])\n",
    "                if dataSet[x][columns] <  minX:\n",
    "                    minX = dataSet[x][columns]\n",
    "                if dataSet[x][columns] >  maxX:\n",
    "                    maxX = dataSet[x][columns]\n",
    "            \n",
    "            for findMin in range(len(dataSet)):\n",
    "                dataSet[findMin][columns] = (dataSet[findMin][columns] - minX) / (maxX - minX)\n",
    "\n",
    "        # 讀入的 wine.data 分類結果在第一欄\n",
    "        # 將資料重整，將分類結果移到最後一欄\n",
    "        # data[x][0] - data[x][12] 為各項屬性的值\n",
    "        # data[x][13] 是分類結果\n",
    "        for x in range(len(dataSet)):\n",
    "            tempValue = dataSet[x][0]\n",
    "            for y in range(dataItems):\n",
    "                dataSet[x][y] = dataSet[x][y+1]\n",
    "            dataSet[x][-1] = tempValue\n",
    "            \n",
    "            # 利用亂數選取 training Data & testing Data\n",
    "            if random.random() < split:\n",
    "                trainingData.append(dataSet[x])\n",
    "            else:\n",
    "                testData.append(dataSet[x])\n",
    "\n",
    "        # 利用 D. E. Knuth 的方法打亂訓練資料\n",
    "        for i in range(len(trainingData)):\n",
    "            shuffleSeed = int(random.uniform(0, i))\n",
    "            tempValue = trainingData[i]\n",
    "            trainingData[i] = trainingData[shuffleSeed]\n",
    "            trainingData[shuffleSeed] = tempValue"
   ]
  },
  {
   "cell_type": "markdown",
   "metadata": {},
   "source": [
    "## 產生起始參數 ##\n",
    "\n",
    "神經元需要有起始參數才能進行運算，因此需先產生起始參數。神經元進行計算時還需減去門檻值，所以參數的數量是資料維度 + 1。\n",
    "\n",
    "因為輸入的資料最後一欄是預先分類，祇要讀取 len(trainingData[0])，其值就已經是資料維度 + 1，也就是所需的參數數量。\n",
    "\n",
    "傳入資料：\n",
    "1. len(trainingData[0])\n",
    "1. 空陣列\n",
    "\n",
    "輸出資料：\n",
    "1. 擁有 len(trainingData[0]) 個元素的陣列"
   ]
  },
  {
   "cell_type": "code",
   "execution_count": 3,
   "metadata": {},
   "outputs": [],
   "source": [
    "def initWeight(dimension, weight = []):    \n",
    "    for i in range(dimension):\n",
    "        weight.append(random.random())"
   ]
  },
  {
   "cell_type": "markdown",
   "metadata": {},
   "source": [
    "## 訓練神經元 ##\n",
    "\n",
    "要傳入神經元的資料應該有：\n",
    "1. Learning rate\n",
    "1. 訓練資料集\n",
    "1. 起始參數\n",
    "\n",
    "神經元處理完之後要輸出的資料有：\n",
    "1. 修正後的參數\n",
    "\n",
    "傳入 Learning rate 的用意在於依據不同的訓練次數選擇不同的 Learning rate。原本將 Learning rate 放在最後一個參數，但 python 似乎不允許一般參數放在陣列之後，放到第一個參數才能執行。"
   ]
  },
  {
   "cell_type": "code",
   "execution_count": 4,
   "metadata": {
    "colab": {},
    "colab_type": "code",
    "id": "MDxFFHyvoLlf"
   },
   "outputs": [],
   "source": [
    "def trainingNeuralNode(learningRate, trainingData = [], weight = []):\n",
    "    dimension = len(weight) - 1    # 資料集的每筆資料有幾個維度\n",
    "    dataNumber = len(trainingData)          # 資料集的資料總筆數\n",
    "    #選擇不同的 Learning rate\n",
    "    stepArray = [10, 1, 0.1, 0.01, 0.001]\n",
    "    step = stepArray[learningRate]\n",
    "    #如果祇想固定 learning rate, 將上兩行 comment 掉\n",
    "    #step = 0.1\n",
    "    \n",
    "    for i in range(dataNumber):\n",
    "        justify = 0\n",
    "        wineClass = int(trainingData[i][-1])\n",
    "        correct = 0 \n",
    "        \n",
    "        for j in range(dimension):\n",
    "            justify += trainingData[i][j] * weight[j]\n",
    "        justify += -1 * weight[dimension]\n",
    "        \n",
    "        if justify < 0:\n",
    "            correct = wineClass - 1\n",
    "        else:\n",
    "            correct = wineClass - 2\n",
    "        \n",
    "        for j in range(dimension):\n",
    "            weight[j] += step * trainingData[i][j] * correct\n",
    "            \n",
    "        weight[dimension] += step * (-1) * correct"
   ]
  },
  {
   "cell_type": "markdown",
   "metadata": {
    "colab_type": "text",
    "id": "aIWIGwQPbVub"
   },
   "source": [
    "## 計算正確率 ##\n",
    "\n",
    "將預測的結果與真正的結果做比較，並計算預測的正確率。\n",
    "\n",
    "輸入資料：\n",
    "1. 測試資料集\n",
    "1. 訓練階段獲得的參數值\n",
    "\n",
    "輸出資料：\n",
    "1. 正確率"
   ]
  },
  {
   "cell_type": "code",
   "execution_count": 5,
   "metadata": {
    "colab": {},
    "colab_type": "code",
    "id": "Bsea5A0fbVuc"
   },
   "outputs": [],
   "source": [
    "def getAccuracy(testingData = [], weight = []):\n",
    "    dimension = len(weight) - 1            # 資料集的每筆資料有幾個維度\n",
    "    dataNumber = len(testingData)          # 資料集的資料總筆數\n",
    "    correct = 0 \n",
    "    \n",
    "    for i in range(dataNumber):\n",
    "        justify = 0\n",
    "        wineClass = int(testingData[i][-1])\n",
    "        \n",
    "        for j in range(dimension):\n",
    "            justify += testingData[i][j] * weight[j]\n",
    "        justify += -1 * weight[dimension]\n",
    "        \n",
    "        if justify < 0:\n",
    "            correct += (1 == wineClass)\n",
    "        else:\n",
    "            correct += (2 == wineClass)\n",
    "    \n",
    "    return (correct/float(len(testingData))) * 100.0"
   ]
  },
  {
   "cell_type": "markdown",
   "metadata": {
    "colab_type": "text",
    "id": "smByyVPubVuk"
   },
   "source": [
    "## 依 training 次數對正確率的影響畫圖 ##\n",
    "\n",
    "Training 次數太少可能會影響正確率，因此計算不同的 Training 次數的正確率改變。\n",
    "\n",
    "最後依照 training 次數與正確率的關係畫出折線圖，training 次數以 log 值呈現。"
   ]
  },
  {
   "cell_type": "code",
   "execution_count": 6,
   "metadata": {
    "colab": {},
    "colab_type": "code",
    "id": "5Kqm9qtUbVuk"
   },
   "outputs": [],
   "source": [
    "def graphPlot(accuracy = []):\n",
    "    note = '' # 若標題需要增修，可修改此處的值\n",
    "    fileName = '' # 若檔名需要增加資訊，可修改此處的值\n",
    "    trainingAffect = []\n",
    "    minX = accuracy[0][1]\n",
    "    maxX = accuracy[0][1]\n",
    "    \n",
    "    for i in range(5):\n",
    "        if accuracy[i][1] < minX:\n",
    "            minX = accuracy[i][1]\n",
    "        if accuracy[i][1] > maxX:\n",
    "            maxX = accuracy[i][1]\n",
    "    minX = 5 * (int(minX / 5) - 3) # 為了畫圖好看，不會整個擠在一起\n",
    "    maxX = 5 * (int(maxX / 5) + 3) # 所以上下各加 10\n",
    "    \n",
    "    trainingAffectNP = np.asarray(accuracy, dtype= {'names': ['x', 'y'], 'formats':['f8','f8']})\n",
    "\n",
    "    plt.figure(figsize=(10, 5))\n",
    "    plt.plot(trainingAffectNP['x'], trainingAffectNP['y'])\n",
    "    plt.xlabel('Training Times (10^X)')\n",
    "    plt.ylabel('Accuracy (%)')\n",
    "    plt.tick_params(axis='x', rotation=45)\n",
    "    plt.title('Training Times V.S. Accuracy' + note )\n",
    "    plt.xticks(np.arange(0, 5, 1))\n",
    "    plt.yticks(np.arange(int(minX), int(maxX), 5))\n",
    "    plt.savefig('Training-Times-VS-Accuracy' + fileName + '.png', transparent=True)"
   ]
  },
  {
   "cell_type": "markdown",
   "metadata": {},
   "source": [
    "## 比較 training 次數對正確率的影響 ##\n",
    "\n",
    "挑選出訓練資料後，分別進行 1, 10, 100, 1000, 10000 次訓練，依序計算其正確率，比較不同訓練次數對於正確率的影響。"
   ]
  },
  {
   "cell_type": "code",
   "execution_count": 7,
   "metadata": {
    "colab": {},
    "colab_type": "code",
    "id": "4fpU2UhybVun"
   },
   "outputs": [],
   "source": [
    "def main():\n",
    "    startTime = time.process_time()\n",
    "    \n",
    "    split = 0.5 # 設定訓練資料佔全體資料的比例\n",
    "    trainingData = []\n",
    "    testingData = []\n",
    "    weight = []\n",
    "    accuracy = []\n",
    "    \n",
    "    openData('wine2.data', split, trainingData, testingData)\n",
    "    initWeight(len(trainingData[0]), weight)\n",
    "    \n",
    "    for i in range(5):\n",
    "        # 測試在不同的訓練次數下，正確率的差異\n",
    "        # i = 0, 10**i = 1, 也就是完整讀完一次 tariningData\n",
    "        # i = 4, 10**i = 10000, 也就是訓練 10000 次。\n",
    "        for j in range(10**i):\n",
    "            trainingNeuralNode(i, trainingData, weight)\n",
    "\n",
    "        \n",
    "        # append 資料時要用 append( (x, y) ), 而不要用 append( [x, y] )\n",
    "        # 否則用 np 轉矩陣時會出錯，無法繪製圖形\n",
    "        accuracy.append((i, getAccuracy(testingData, weight)))\n",
    "            \n",
    "    graphPlot(accuracy)\n",
    "    \n",
    "    endTime = time.process_time()\n",
    "    # print('本次測試共進行 ' + repr(endTime - startTime) + ' 秒')"
   ]
  },
  {
   "cell_type": "code",
   "execution_count": 8,
   "metadata": {
    "colab": {
     "base_uri": "https://localhost:8080/",
     "height": 416
    },
    "colab_type": "code",
    "id": "xgasUZv9bVup",
    "outputId": "48808da7-71f6-4d91-aff8-ab91b457366b",
    "scrolled": true
   },
   "outputs": [
    {
     "data": {
      "image/png": "[encoded data removed]",
      "text/plain": [
       "<Figure size 720x360 with 1 Axes>"
      ]
     },
     "metadata": {
      "needs_background": "light"
     },
     "output_type": "display_data"
    }
   ],
   "source": [
    "main()"
   ]
  },
  {
   "cell_type": "markdown",
   "metadata": {},
   "source": [
    "## 結果 ##\n",
    "\n",
    "進行多次實驗後發現，以葡萄酒的資料進行機器學習，多數的情況祇需給予 10^2 (=100) 次的訓練就可讓錯誤率收斂於區域最小值，之後再給予更多的訓練也不會影響其正確性，甚至有幾次的實驗結果是訓練越多正確率反而降低。\n",
    "\n",
    "嘗試修改 Learning rate，在不同的訓練階段給予不同的 learning rate：第一次讀取資料時 learning rate = 10；前 10 次的訓練 learning rate = 1；前 100 次的訓練 learning rate = 0.1；第 100~1000 次的訓練 learning rate = 0.01；第 1000~10000 次的訓練 learning rate = 0.001，比較這樣的設定是否能更加逼進區域最佳解。但結果仍是 100 次訓練後就趨於穩定，不再有變化。"
   ]
  },
  {
   "cell_type": "markdown",
   "metadata": {},
   "source": [
    "## 結論 ##\n",
    "\n",
    "**可能是葡萄酒資料特徵明顯，類別 overlap 不明顯**，因此祇需訓練 100 次就可以得到不錯的結果，甚至祇是完整的跑完一次 training data 就能讓正確率高於 50%。比起完全隨機的亂猜，僅僅是訓練一次就能擁有比隨機亂猜更好的結果。\n",
    "\n",
    "對 Neural Network 而言，重要的是各個輸入的 weight 值，為了得到更高的正確率，可以將 learning rate 調小一點，讓每次調整的步伐較小。\n",
    "\n",
    "降低 Learning rate 雖然需要較多次的訓練才能達到區域最佳解，但是因為調整的步伐小，更有可能趨近區域最佳解，而不會在最佳解的兩旁震盪。祇要給予足夠的時間進行訓練，就能得到較準確的 weight 值，還是值得的投資。\n",
    "\n",
    "但這次利用葡萄酒資料進行訓練時調整 learning rate 並沒有讓葡萄酒分類的正確率更高，其原因可能如前面所提到的：『葡萄酒資料特徵明顯，類別 overlap 不明顯』。在 overlap 不嚴重的情況下很容易將資料區分開，更趨近區域最佳解對於提高正確率並沒有幫助。"
   ]
  }
 ],
 "metadata": {
  "colab": {
   "name": "神經網路-Wine.ipynb",
   "provenance": [],
   "version": "0.3.2"
  },
  "kernelspec": {
   "display_name": "Python 3",
   "language": "python",
   "name": "python3"
  },
  "language_info": {
   "codemirror_mode": {
    "name": "ipython",
    "version": 3
   },
   "file_extension": ".py",
   "mimetype": "text/x-python",
   "name": "python",
   "nbconvert_exporter": "python",
   "pygments_lexer": "ipython3",
   "version": "3.7.3"
  }
 },
 "nbformat": 4,
 "nbformat_minor": 2
}
