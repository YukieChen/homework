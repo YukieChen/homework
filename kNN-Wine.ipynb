{
 "cells": [
  {
   "cell_type": "markdown",
   "metadata": {},
   "source": [
    "# HW01 -- kNN 葡萄酒分類"
   ]
  },
  {
   "cell_type": "code",
   "execution_count": 1,
   "metadata": {},
   "outputs": [],
   "source": [
    "import csv\n",
    "import math\n",
    "import random\n",
    "import operator\n",
    "import sys\n",
    "import matplotlib.pyplot as plt\n",
    "import numpy as np\n",
    "import time\n",
    "\n",
    "random.seed()"
   ]
  },
  {
   "cell_type": "markdown",
   "metadata": {},
   "source": [
    "**開啟資料檔**\n",
    "\n",
    "利用 Python With open as 語法開啟 wine.data，避免忘記關檔發生錯誤。\n",
    "\n",
    "原始的 wine.data 將分類放在第一欄，這不太符合一般習慣，因此將檔案重整，把分類放到最後一欄。\n",
    "\n",
    "最後，設下一個標準值，並取一個亂數，若取得的亂數 > 標準值，則為 test data；否則為 training data。"
   ]
  },
  {
   "cell_type": "code",
   "execution_count": 2,
   "metadata": {},
   "outputs": [],
   "source": [
    "def openData(filename, split, trainingData=[], testData = []):\n",
    "    with open(filename, 'r') as csvData:\n",
    "        lines = csv.reader(csvData)\n",
    "        dataSet = list(lines)\n",
    "        dataItems = len(dataSet[0]) -1\n",
    "        \n",
    "        # 讀入的 wine.data 分類結果在第一欄\n",
    "        # 將資料重整，將分類結果移到最後一欄\n",
    "        # data[x][0] - data[x][12] 為各項屬性的值\n",
    "        # data[x][13] 是分類結果\n",
    "        for x in range(len(dataSet)):\n",
    "            tempValue = dataSet[x][0]\n",
    "            for y in range(dataItems):\n",
    "                dataSet[x][y] = float(dataSet[x][y+1])\n",
    "            dataSet[x][-1] = tempValue\n",
    "            \n",
    "            # 利用亂數選取 training Data & testing Data\n",
    "            if random.random() < split:\n",
    "                trainingData.append(dataSet[x])\n",
    "            else:\n",
    "                testData.append(dataSet[x])"
   ]
  },
  {
   "cell_type": "markdown",
   "metadata": {},
   "source": [
    "**進行標準化**\n",
    "\n",
    "前面 openData() 函數未將資料標準化，最後的計算結果可能會受到某些數值較大的欄位嚴重影響，因此再建立一個會進行標準化的函數 openDataNormalization()，可比較標準化對於結果的影響。\n",
    "\n",
    "標準化方式以下列公式進行：\n",
    "\n",
    "*(X - Min) / (Max - Min)*"
   ]
  },
  {
   "cell_type": "code",
   "execution_count": 3,
   "metadata": {},
   "outputs": [],
   "source": [
    "def openDataNormalization(filename, split, trainingData=[], testData = []):\n",
    "    with open(filename, 'r') as csvData:\n",
    "        lines = csv.reader(csvData)\n",
    "        dataSet = list(lines)\n",
    "        dataItems = len(dataSet[0]) -1\n",
    "        \n",
    "        for columns in range(1, len(dataSet[0])):\n",
    "            minX = float(dataSet[0][columns])\n",
    "            maxX = float(dataSet[0][columns])\n",
    "            \n",
    "            for x in range(len(dataSet)):\n",
    "                dataSet[x][columns] = float(dataSet[x][columns])\n",
    "                if dataSet[x][columns] <  minX:\n",
    "                    minX = dataSet[x][columns]\n",
    "                if dataSet[x][columns] >  maxX:\n",
    "                    maxX = dataSet[x][columns]\n",
    "            \n",
    "            for findMin in range(len(dataSet)):\n",
    "                dataSet[findMin][columns] = (dataSet[findMin][columns] - minX) / (maxX - minX)\n",
    "\n",
    "        for x in range(len(dataSet)):\n",
    "            tempValue = dataSet[x][0]\n",
    "            for y in range(dataItems):\n",
    "                dataSet[x][y] = dataSet[x][y+1]\n",
    "            dataSet[x][-1] = tempValue\n",
    "            \n",
    "            # 利用亂數選取 training Data & testing Data\n",
    "            if random.random() < split:\n",
    "                trainingData.append(dataSet[x])\n",
    "            else:\n",
    "                testData.append(dataSet[x])"
   ]
  },
  {
   "cell_type": "markdown",
   "metadata": {},
   "source": [
    "**計算每個點與其他點的距離**\n",
    "\n",
    "利用歐氏距離公式計算每個點與其他點的距離。"
   ]
  },
  {
   "cell_type": "code",
   "execution_count": 4,
   "metadata": {
    "scrolled": true
   },
   "outputs": [],
   "source": [
    "def computingDistance(instance1, instance2, dataSetLength):\n",
    "    distance = 0\n",
    "    \n",
    "    # 依照資料維度計算距離\n",
    "    for x in range(dataSetLength):\n",
    "        distance += pow((instance1[x] - instance2[x]), 2)\n",
    "    return math.sqrt(distance)"
   ]
  },
  {
   "cell_type": "markdown",
   "metadata": {},
   "source": [
    "**找出最近的鄰居**\n",
    "\n",
    "利用 sort() 方法，對 distance 的第二個欄位進行排序，挑選排序最前的 K 個鄰居。"
   ]
  },
  {
   "cell_type": "code",
   "execution_count": 5,
   "metadata": {},
   "outputs": [],
   "source": [
    "def getNeighbors(trainingData, testInstance, k):\n",
    "    length = len(trainingData[0]) - 1\n",
    "    sampleSize = len(trainingData)\n",
    "    distance = []\n",
    "    neighbors = []\n",
    "    \n",
    "    for x in range(sampleSize):\n",
    "        dist = computingDistance(trainingData[x], testInstance, length)\n",
    "        distance.append((trainingData[x], dist))\n",
    "        \n",
    "    distance.sort(key = lambda d: d[1], reverse = False)\n",
    "    \n",
    "    for x in range(k):\n",
    "        neighbors.append(distance[x][0])\n",
    "        \n",
    "    return neighbors"
   ]
  },
  {
   "cell_type": "markdown",
   "metadata": {},
   "source": [
    "**統計附近鄰居的類別**\n",
    "\n",
    "找出距離最近的鄰居後，一一統計各個鄰居的類別，加入多數派中。\n",
    "\n",
    "如果某些類別人數相同，**就隨意挑一個類別加入**。"
   ]
  },
  {
   "cell_type": "code",
   "execution_count": 6,
   "metadata": {},
   "outputs": [],
   "source": [
    "def getResponse(neighbors):\n",
    "    neighborsVotes = {}\n",
    "    \n",
    "    for x in range(len(neighbors)):\n",
    "        response = neighbors[x][-1]\n",
    "        \n",
    "        if response in neighborsVotes:\n",
    "            neighborsVotes[response] += 1\n",
    "        else:\n",
    "            neighborsVotes[response] = 1\n",
    "        \n",
    "    sortedVotes = sorted(neighborsVotes.items(), key= lambda d: d[1], reverse = True)\n",
    "    \n",
    "    return sortedVotes[0][0]"
   ]
  },
  {
   "cell_type": "markdown",
   "metadata": {},
   "source": [
    "**計算正確率**\n",
    "\n",
    "將預測的結果與真正的結果做比較，並計算預測的正確率。"
   ]
  },
  {
   "cell_type": "code",
   "execution_count": 7,
   "metadata": {},
   "outputs": [],
   "source": [
    "def getAccuracy(testData, predictions):\n",
    "    correct = 0\n",
    "    \n",
    "    for x in range(len(testData)):\n",
    "        if testData[x][-1] == predictions[x]:\n",
    "            correct += 1\n",
    "    \n",
    "    return (correct/float(len(testData))) * 100.0"
   ]
  },
  {
   "cell_type": "markdown",
   "metadata": {},
   "source": [
    "**計算不同 k 值對正確率的影響**\n",
    "\n",
    "k 值可能會影響正確率，因此從 k=3 到 k=15 分別計算其正確率。為減少誤差，每個 k 值情況都進行 20 次計算，再求其平均正確率。\n",
    "\n",
    "最後依照 k 值與正確率的關係畫出折線圖。"
   ]
  },
  {
   "cell_type": "code",
   "execution_count": 8,
   "metadata": {},
   "outputs": [],
   "source": [
    "def kNumbers(testTimes, normalization):\n",
    "    kAffect = []\n",
    "    note = ''\n",
    "    fileName = ''\n",
    "    \n",
    "    for k in range(3,26):\n",
    "        accuracy = 0\n",
    "        split = 0.5\n",
    "        \n",
    "        for x in range(testTimes):\n",
    "            trainingData=[]\n",
    "            testData=[]\n",
    "            if normalization == True:\n",
    "                note = '\\n With Data Normalization'\n",
    "                fileName = '-WithNormalization'\n",
    "                openDataNormalization('wine.data', split, trainingData, testData)\n",
    "            else:\n",
    "                note = '\\n Without Data Normalization'\n",
    "                fileName = '-WithoutNormalization'\n",
    "                openData('wine.data', split, trainingData, testData)\n",
    "        \n",
    "            predictions=[]\n",
    "            for y in range(len(testData)):\n",
    "                neighbors = getNeighbors(trainingData, testData[y], k)\n",
    "                result = getResponse(neighbors)\n",
    "                predictions.append(result)\n",
    "            \n",
    "            accuracy += getAccuracy(testData, predictions)\n",
    "    \n",
    "        kAffect.append((k, accuracy/testTimes))\n",
    "        \n",
    "    kAffectNP = np.asarray(kAffect, dtype= {'names': ['x', 'y'], 'formats':['f8','f8']})\n",
    "    minX = int(kAffect[0][1])\n",
    "    maxX = int(kAffect[0][1])\n",
    "    \n",
    "    for i in range(5):\n",
    "        if int(kAffect[i][1]) < minX:\n",
    "            minX = int(kAffect[i][1])\n",
    "        if int(kAffect[i][1]) > maxX:\n",
    "            maxX = int(kAffect[i][1])\n",
    "    minX = 5 * (int(minX / 5) - 3) # 為了畫圖好看，不會整個擠在一起\n",
    "    maxX = 5 * (int(maxX / 5) + 3) # 所以上下各加 10\n",
    "    \n",
    "    plt.figure(figsize=(10, 5))\n",
    "    plt.plot(kAffectNP['x'], kAffectNP['y'])\n",
    "    plt.xlabel('k-Numbers')\n",
    "    plt.ylabel('Accuracy (%)')\n",
    "    plt.tick_params(axis='x', rotation=45)\n",
    "    plt.title('k-Numbers V.S. Accuracy' + note)\n",
    "    plt.xticks(np.arange(3, 26, 1))\n",
    "    plt.yticks(np.arange(int(minX), int(maxX), 5))\n",
    "    plt.savefig('K-numbers-VS-Accuracy' + fileName + '.png', transparent=True)"
   ]
  },
  {
   "cell_type": "markdown",
   "metadata": {},
   "source": [
    "**計算不同 training data 的量對正確率的影響**\n",
    "\n",
    "Training data 太多或太少都可能會影響正確率，因此分別計算 Training data 佔總量 30% 到 70% 的情況，其正確率的改變。\n",
    "\n",
    "為減少誤差，每種情況都進行 20 次計算，再求其平均正確率，最後依照 training data 佔總數的比例與正確率的關係畫出折線圖。"
   ]
  },
  {
   "cell_type": "code",
   "execution_count": 9,
   "metadata": {},
   "outputs": [],
   "source": [
    "def trainingSize(testTimes, normalization):\n",
    "    trainingAffect = []\n",
    "    note = ''\n",
    "    fileName = ''\n",
    "    \n",
    "    for split in range(3,8):\n",
    "        accuracy = 0\n",
    "        k = 15\n",
    "        split = split / 10\n",
    "        \n",
    "        for x in range(testTimes):\n",
    "            trainingData=[]\n",
    "            testData=[]\n",
    "            if normalization == True:\n",
    "                note = '\\n With Data Normalization'\n",
    "                fileName = '-Normalization'\n",
    "                openDataNormalization('wine.data', split, trainingData, testData)\n",
    "            else:\n",
    "                note = '\\n Without Data Normalization'\n",
    "                fileName = '-WithoutNormalization'\n",
    "                openData('wine.data', split, trainingData, testData)\n",
    "        \n",
    "            predictions=[]\n",
    "            for y in range(len(testData)):\n",
    "                neighbors = getNeighbors(trainingData, testData[y], k)\n",
    "                result = getResponse(neighbors)\n",
    "                predictions.append(result)\n",
    "            \n",
    "            accuracy += getAccuracy(testData, predictions)\n",
    "\n",
    "        trainingAffect.append((split * 100.0, accuracy/testTimes))\n",
    "    \n",
    "    trainingAffectNP = np.asarray(trainingAffect, dtype= {'names': ['x', 'y'], 'formats':['f8','f8']})\n",
    "    minX = int(trainingAffect[0][1])\n",
    "    maxX = int(trainingAffect[0][1])\n",
    "    \n",
    "    for i in range(5):\n",
    "        if int(trainingAffect[i][1]) < minX:\n",
    "            minX = int(trainingAffect[i][1])\n",
    "        if int(trainingAffect[i][1]) > maxX:\n",
    "            maxX = int(trainingAffect[i][1])\n",
    "    minX = 5 * (int(minX / 5) - 3) # 為了畫圖好看，不會整個擠在一起\n",
    "    maxX = 5 * (int(maxX / 5) + 3) # 所以上下各加 10\n",
    "    \n",
    "    plt.figure(figsize=(10, 5))\n",
    "    plt.plot(trainingAffectNP['x'], trainingAffectNP['y'])\n",
    "    plt.xlabel('Training Data Size %')\n",
    "    plt.ylabel('Accuracy (%)')\n",
    "    plt.tick_params(axis='x', rotation=45)\n",
    "    plt.title('Training Data Size V.S. Accuracy' + note )\n",
    "    plt.xticks(np.arange(30, 80, 10))\n",
    "    plt.yticks(np.arange(int(minX), int(maxX), 5))\n",
    "    plt.savefig('Training-Size-VS-Accuracy' + fileName + '.png', transparent=True)"
   ]
  },
  {
   "cell_type": "code",
   "execution_count": 10,
   "metadata": {},
   "outputs": [],
   "source": [
    "def main():\n",
    "    testTimes = 20\n",
    "    \n",
    "    startTime = time.process_time()\n",
    "    normalization = False\n",
    "    kNumbers(testTimes, normalization)\n",
    "    trainingSize(testTimes, normalization)\n",
    "    endTime = time.process_time()\n",
    "    print('本次測試共進行 ' + repr(endTime - startTime) + ' 秒')\n",
    "    \n",
    "    startTime = time.process_time()\n",
    "    normalization = True\n",
    "    kNumbers(testTimes, normalization)\n",
    "    trainingSize(testTimes, normalization)\n",
    "    endTime = time.process_time()\n",
    "    print('本次測試共進行 ' + repr(endTime - startTime) + ' 秒')"
   ]
  },
  {
   "cell_type": "code",
   "execution_count": 11,
   "metadata": {
    "scrolled": true
   },
   "outputs": [
    {
     "name": "stdout",
     "output_type": "stream",
     "text": [
      "本次測試共進行 40.515625 秒\n",
      "本次測試共進行 42.09375 秒\n"
     ]
    },
    {
     "data": {
      "image/png": "[encoded data removed]",
      "text/plain": [
       "<Figure size 720x360 with 1 Axes>"
      ]
     },
     "metadata": {
      "needs_background": "light"
     },
     "output_type": "display_data"
    },
    {
     "data": {
      "image/png": "[encoded data removed]",
      "text/plain": [
       "<Figure size 720x360 with 1 Axes>"
      ]
     },
     "metadata": {
      "needs_background": "light"
     },
     "output_type": "display_data"
    },
    {
     "data": {
      "image/png": "[encoded data removed]",
      "text/plain": [
       "<Figure size 720x360 with 1 Axes>"
      ]
     },
     "metadata": {
      "needs_background": "light"
     },
     "output_type": "display_data"
    },
    {
     "data": {
      "image/png": "[encoded data removed]",
      "text/plain": [
       "<Figure size 720x360 with 1 Axes>"
      ]
     },
     "metadata": {
      "needs_background": "light"
     },
     "output_type": "display_data"
    }
   ],
   "source": [
    "main()"
   ]
  },
  {
   "cell_type": "markdown",
   "metadata": {},
   "source": [
    "## 實驗結果 ##\n",
    "\n",
    "**未標準化資料的結果**\n",
    "\n",
    "1. k 值對於葡萄酒預測的正確率影響不大，從 k=3 到 k=25，其預測正確率都在 68% ~ 72% 之間震盪，可知在葡萄酒的分類上選擇小一點的 k 值即可。\n",
    "1. 同樣的，training data 大小對於正確率影響不大，不同 training data 大小，所得到的正確率都介於 68% ~ 72% 之間。\n",
    "\n",
    "**將資料標準化的結果**\n",
    "\n",
    "1. 將資料進行標準化後，無論 k=3 或 k=25，其正確率都超過 95%。逐漸增加 K 值，可讓正確率微幅上升，但效益不明顯。\n",
    "1. 同樣的，將資料標準化後，隨著 training data size 的提昇，正確率也隨之穩定提昇。考慮到 30% 的 training data 都有 95% 的正確率，因此在標準化之後，可以將 training data size 調降，減少計算時間，但也還能得到不錯的結果。"
   ]
  },
  {
   "cell_type": "markdown",
   "metadata": {},
   "source": [
    "## 結論 ##\n",
    "\n",
    "從這次的實驗可以知道，影響結果最多的不是 k 值，也不是 training data size，而是**資料是否經過標準化**。\n",
    "\n",
    "未經標準化的資料可能因為某些欄位數值過大而影響整體結果；一旦將資料進行標準化，讓每個欄位的影響程度相同，就比較不會讓單一欄位有過大的影響力。**因此在分類之前將資料進行標準化是很重要的步驟，不可省略標準化的過程。**"
   ]
  }
 ],
 "metadata": {
  "kernelspec": {
   "display_name": "Python 3",
   "language": "python",
   "name": "python3"
  },
  "language_info": {
   "codemirror_mode": {
    "name": "ipython",
    "version": 3
   },
   "file_extension": ".py",
   "mimetype": "text/x-python",
   "name": "python",
   "nbconvert_exporter": "python",
   "pygments_lexer": "ipython3",
   "version": "3.7.3"
  }
 },
 "nbformat": 4,
 "nbformat_minor": 2
}
